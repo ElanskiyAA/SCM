{
 "cells": [
  {
   "cell_type": "markdown",
   "metadata": {},
   "source": [
    "# Нелинейный метод наименьших квадратов\n",
    "\n",
    "Нелинейным методом наименьших квадратов построить модели вида\n",
    "$$\n",
    "y = \\beta_1 e^{-\\beta_2 x}\n",
    "\\qquad\n",
    "\\mbox{и}\n",
    "\\qquad\n",
    "y = \\beta_1 e^{\\frac{\\beta_2}{x+\\beta_3}}\n",
    "$$ \n",
    "для данных, приведенных в таблице\n",
    "```\n",
    "  x         y    \n",
    "----------------                \n",
    " 50       34804    \n",
    " 55       28610    \n",
    " 60       23650    \n",
    " 65       19630    \n",
    " 70       16370    \n",
    " 75       13720    \n",
    " 80       11540    \n",
    " 85        9744    \n",
    " 90        8261    \n",
    " 95        7030    \n",
    "100        6005    \n",
    "105        5147    \n",
    "110        4427    \n",
    "115        3820    \n",
    "120        3307    \n",
    "125        2872    \n",
    "```   \n",
    "Найти общую ошибку в каждом из этих случаев и сравнить результаты."
   ]
  },
  {
   "cell_type": "markdown",
   "metadata": {},
   "source": [
    "Я заменил значение с 347804 на 34804, так как посчитал, что произошла опечатка"
   ]
  },
  {
   "cell_type": "markdown",
   "metadata": {},
   "source": [
    "## Метод наименьших квадратов\n",
    "Метод наименьших квадратов (МНК) — математический метод, применяемый для решения различных задач.Он может использоваться для поиска решения в случае обычных нелинейных систем уравнений, для аппроксимации точечных значений некоторой функции. Метод основан на минимизации суммы квадратов отклонений некоторых функций от искомых переменных. \n",
    "А именно, ищем $\\beta_0$, $\\beta_1$, на которых достигается минимум суммы квадратов невязок (*остаточной суммы квадратов*)\n",
    "$$\n",
    "R(\\beta_0,\\, \\beta_1) = \\sum_{i=1}^m \\bigl(y_i - \\beta_0 - \\beta_1 x_i\\bigr)^2 \\to \\min_{\\beta_0,\\, \\beta_1} \n",
    "$$"
   ]
  },
  {
   "cell_type": "markdown",
   "metadata": {},
   "source": [
    "# Решение"
   ]
  },
  {
   "cell_type": "code",
   "execution_count": 91,
   "metadata": {},
   "outputs": [],
   "source": [
    "#Подключаем нужгые библиотеки и процедуру\n",
    "import numpy as np\n",
    "import matplotlib.pyplot as plt\n",
    "import scipy.linalg as linalg\n",
    "import math as math\n",
    "from scipy.optimize import curve_fit"
   ]
  },
  {
   "cell_type": "code",
   "execution_count": 92,
   "metadata": {},
   "outputs": [],
   "source": [
    "#Задаём исходные данные\n",
    "x = np.array([50, 55, 60, 65, 70, 75, 80, 85, 90, 95, 100, 105, 110, 115, 120, 125])\n",
    "y = np.array([34804, 28610, 23650, 19630, 16370, 13720, 11540, 9744, 8261, 7030, 6005, 5147, 4427, 3820, 3307, 2872])"
   ]
  },
  {
   "cell_type": "markdown",
   "metadata": {},
   "source": [
    "$$\n",
    "y = \\beta_1 e^{-\\beta_2 x}\n",
    "\\qquad\n",
    "$$"
   ]
  },
  {
   "cell_type": "code",
   "execution_count": 93,
   "metadata": {},
   "outputs": [],
   "source": [
    "#Функция для построения графика\n",
    "def function1(x, b1, b2):\n",
    "    return b1 * (math.e ** (-b2 * x))"
   ]
  },
  {
   "cell_type": "markdown",
   "metadata": {},
   "source": [
    "Для нахождения коофицентов $\\beta_1$ и $\\beta_2$ будем использовать модуль scipy.optimize, а именно процедуру curve_fit."
   ]
  },
  {
   "cell_type": "code",
   "execution_count": 94,
   "metadata": {},
   "outputs": [
    {
     "name": "stderr",
     "output_type": "stream",
     "text": [
      "E:\\Anaconda\\lib\\site-packages\\scipy\\optimize\\minpack.py:808: OptimizeWarning: Covariance of the parameters could not be estimated\n",
      "  category=OptimizeWarning)\n"
     ]
    },
    {
     "name": "stdout",
     "output_type": "stream",
     "text": [
      "Коофиценты function1 [b1, b2] =  [1. 1.]\n"
     ]
    },
    {
     "data": {
      "image/png": "[encoded data removed]",
      "text/plain": [
       "<Figure size 432x288 with 1 Axes>"
      ]
     },
     "metadata": {
      "needs_background": "light"
     },
     "output_type": "display_data"
    }
   ],
   "source": [
    "сoefficients_1, _ = curve_fit(function1, x, y)\n",
    "print (\"Коофиценты function1 [b1, b2] = \", сoefficients_1)\n",
    "plt.plot(x, y, '.', label = 'Data')\n",
    "plt.plot(x, function1(x, *сoefficients_1), label = 'Function 1')\n",
    "plt.legend()\n",
    "plt.grid()"
   ]
  },
  {
   "cell_type": "markdown",
   "metadata": {},
   "source": [
    "Происходит ошибка. Тогда подставим приблизительные коофиценты в curve_fit\n",
    "$$\n",
    "\\beta_1 ≈ 12.04553301\n",
    "$$\n",
    "$$\n",
    "\\beta_2 ≈ −0.03318\n",
    "$$"
   ]
  },
  {
   "cell_type": "markdown",
   "metadata": {},
   "source": [
    "Теперь можно построить график"
   ]
  },
  {
   "cell_type": "code",
   "execution_count": 95,
   "metadata": {},
   "outputs": [
    {
     "name": "stdout",
     "output_type": "stream",
     "text": [
      "Коофиценты function1 [b1, b2] =  [2.02261410e+05 3.55594766e-02]\n"
     ]
    },
    {
     "data": {
      "image/png": "[encoded data removed]",
      "text/plain": [
       "<Figure size 432x288 with 1 Axes>"
      ]
     },
     "metadata": {
      "needs_background": "light"
     },
     "output_type": "display_data"
    }
   ],
   "source": [
    "newсoefficients1 = [12.04553301, -0.03318]\n",
    "сoefficients_1, _ = curve_fit(function1, x, y, newсoefficients)\n",
    "print (\"Коофиценты function1 [b1, b2] = \", сoefficients_1)\n",
    "plt.plot(x, y, '.', label = 'Data')\n",
    "plt.plot(x, function1(x, *сoefficients_1), label = 'Function 1')\n",
    "plt.legend()\n",
    "plt.grid()"
   ]
  },
  {
   "cell_type": "markdown",
   "metadata": {},
   "source": [
    "Найдём ошибку по формуле:\n",
    "$$\n",
    "\\frac{1}{n}\\sum_{i=1}^{n} \\left(f_i(\\beta, x_i) - y_i \\strut\\right)^2\n",
    "$$"
   ]
  },
  {
   "cell_type": "code",
   "execution_count": 96,
   "metadata": {},
   "outputs": [
    {
     "data": {
      "text/plain": [
       "557025940594.5576"
      ]
     },
     "execution_count": 96,
     "metadata": {},
     "output_type": "execute_result"
    }
   ],
   "source": [
    "(np.sum(function1(x, *сoefficients_1) - sum(y))**2)/16"
   ]
  },
  {
   "cell_type": "markdown",
   "metadata": {},
   "source": [
    "Теперь проделываем те же самые действия для \n",
    "$$\n",
    "y = \\beta_1 e^{\\frac{\\beta_2}{x+\\beta_3}}\n",
    "$$"
   ]
  },
  {
   "cell_type": "code",
   "execution_count": 97,
   "metadata": {},
   "outputs": [],
   "source": [
    "def function2(x, b1, b2, b3):\n",
    "    return b1 * (math.e ** (b2/(x+b3)))"
   ]
  },
  {
   "cell_type": "markdown",
   "metadata": {},
   "source": [
    "$$\n",
    "\\beta_1 ≈ 1\n",
    "$$\n",
    "$$\n",
    "\\beta_2 ≈ 9.94056164616192e+28\n",
    "$$\n",
    "$$\n",
    "\\beta_3 ≈ 91841.6246252477\n",
    "$$"
   ]
  },
  {
   "cell_type": "code",
   "execution_count": 98,
   "metadata": {},
   "outputs": [
    {
     "ename": "RuntimeError",
     "evalue": "Optimal parameters not found: Number of calls to function has reached maxfev = 800.",
     "output_type": "error",
     "traceback": [
      "\u001b[1;31m---------------------------------------------------------------------------\u001b[0m",
      "\u001b[1;31mRuntimeError\u001b[0m                              Traceback (most recent call last)",
      "\u001b[1;32m<ipython-input-98-a18debe39dd9>\u001b[0m in \u001b[0;36m<module>\u001b[1;34m\u001b[0m\n\u001b[0;32m      1\u001b[0m \u001b[0mnewсoefficients2\u001b[0m \u001b[1;33m=\u001b[0m \u001b[1;33m[\u001b[0m\u001b[1;36m1\u001b[0m\u001b[1;33m,\u001b[0m \u001b[1;36m9.94056164616192e+28\u001b[0m\u001b[1;33m,\u001b[0m \u001b[1;36m91841.6246252477\u001b[0m\u001b[1;33m]\u001b[0m\u001b[1;33m\u001b[0m\u001b[1;33m\u001b[0m\u001b[0m\n\u001b[1;32m----> 2\u001b[1;33m \u001b[0mсoefficients_2\u001b[0m\u001b[1;33m,\u001b[0m \u001b[0m_\u001b[0m \u001b[1;33m=\u001b[0m \u001b[0mcurve_fit\u001b[0m\u001b[1;33m(\u001b[0m\u001b[0mfunction2\u001b[0m\u001b[1;33m,\u001b[0m \u001b[0mx\u001b[0m\u001b[1;33m,\u001b[0m \u001b[0my\u001b[0m\u001b[1;33m)\u001b[0m\u001b[1;33m\u001b[0m\u001b[1;33m\u001b[0m\u001b[0m\n\u001b[0m\u001b[0;32m      3\u001b[0m \u001b[0mprint\u001b[0m \u001b[1;33m(\u001b[0m\u001b[1;34m\"Коофиценты function2 [b1, b2, b3] = \"\u001b[0m\u001b[1;33m,\u001b[0m \u001b[0mсoefficients_2\u001b[0m\u001b[1;33m)\u001b[0m\u001b[1;33m\u001b[0m\u001b[1;33m\u001b[0m\u001b[0m\n\u001b[0;32m      4\u001b[0m \u001b[0mplt\u001b[0m\u001b[1;33m.\u001b[0m\u001b[0mplot\u001b[0m\u001b[1;33m(\u001b[0m\u001b[0mx\u001b[0m\u001b[1;33m,\u001b[0m \u001b[0my\u001b[0m\u001b[1;33m,\u001b[0m \u001b[1;34m'.'\u001b[0m\u001b[1;33m,\u001b[0m \u001b[0mlabel\u001b[0m \u001b[1;33m=\u001b[0m \u001b[1;34m'Data'\u001b[0m\u001b[1;33m)\u001b[0m\u001b[1;33m\u001b[0m\u001b[1;33m\u001b[0m\u001b[0m\n\u001b[0;32m      5\u001b[0m \u001b[0mplt\u001b[0m\u001b[1;33m.\u001b[0m\u001b[0mplot\u001b[0m\u001b[1;33m(\u001b[0m\u001b[0mx\u001b[0m\u001b[1;33m,\u001b[0m \u001b[0mfunction2\u001b[0m\u001b[1;33m(\u001b[0m\u001b[0mx\u001b[0m\u001b[1;33m,\u001b[0m \u001b[1;33m*\u001b[0m\u001b[0mсoefficients_2\u001b[0m\u001b[1;33m)\u001b[0m\u001b[1;33m,\u001b[0m \u001b[0mlabel\u001b[0m \u001b[1;33m=\u001b[0m \u001b[1;34m'Function 2'\u001b[0m\u001b[1;33m)\u001b[0m\u001b[1;33m\u001b[0m\u001b[1;33m\u001b[0m\u001b[0m\n",
      "\u001b[1;32mE:\\Anaconda\\lib\\site-packages\\scipy\\optimize\\minpack.py\u001b[0m in \u001b[0;36mcurve_fit\u001b[1;34m(f, xdata, ydata, p0, sigma, absolute_sigma, check_finite, bounds, method, jac, **kwargs)\u001b[0m\n\u001b[0;32m    766\u001b[0m         \u001b[0mcost\u001b[0m \u001b[1;33m=\u001b[0m \u001b[0mnp\u001b[0m\u001b[1;33m.\u001b[0m\u001b[0msum\u001b[0m\u001b[1;33m(\u001b[0m\u001b[0minfodict\u001b[0m\u001b[1;33m[\u001b[0m\u001b[1;34m'fvec'\u001b[0m\u001b[1;33m]\u001b[0m \u001b[1;33m**\u001b[0m \u001b[1;36m2\u001b[0m\u001b[1;33m)\u001b[0m\u001b[1;33m\u001b[0m\u001b[1;33m\u001b[0m\u001b[0m\n\u001b[0;32m    767\u001b[0m         \u001b[1;32mif\u001b[0m \u001b[0mier\u001b[0m \u001b[1;32mnot\u001b[0m \u001b[1;32min\u001b[0m \u001b[1;33m[\u001b[0m\u001b[1;36m1\u001b[0m\u001b[1;33m,\u001b[0m \u001b[1;36m2\u001b[0m\u001b[1;33m,\u001b[0m \u001b[1;36m3\u001b[0m\u001b[1;33m,\u001b[0m \u001b[1;36m4\u001b[0m\u001b[1;33m]\u001b[0m\u001b[1;33m:\u001b[0m\u001b[1;33m\u001b[0m\u001b[1;33m\u001b[0m\u001b[0m\n\u001b[1;32m--> 768\u001b[1;33m             \u001b[1;32mraise\u001b[0m \u001b[0mRuntimeError\u001b[0m\u001b[1;33m(\u001b[0m\u001b[1;34m\"Optimal parameters not found: \"\u001b[0m \u001b[1;33m+\u001b[0m \u001b[0merrmsg\u001b[0m\u001b[1;33m)\u001b[0m\u001b[1;33m\u001b[0m\u001b[1;33m\u001b[0m\u001b[0m\n\u001b[0m\u001b[0;32m    769\u001b[0m     \u001b[1;32melse\u001b[0m\u001b[1;33m:\u001b[0m\u001b[1;33m\u001b[0m\u001b[1;33m\u001b[0m\u001b[0m\n\u001b[0;32m    770\u001b[0m         \u001b[1;31m# Rename maxfev (leastsq) to max_nfev (least_squares), if specified.\u001b[0m\u001b[1;33m\u001b[0m\u001b[1;33m\u001b[0m\u001b[1;33m\u001b[0m\u001b[0m\n",
      "\u001b[1;31mRuntimeError\u001b[0m: Optimal parameters not found: Number of calls to function has reached maxfev = 800."
     ]
    }
   ],
   "source": [
    "newсoefficients2 = [1, 9.94056164616192e+28, 91841.6246252477]\n",
    "сoefficients_2, _ = curve_fit(function2, x, y)\n",
    "print (\"Коофиценты function2 [b1, b2, b3] = \", сoefficients_2)\n",
    "plt.plot(x, y, '.', label = 'Data')\n",
    "plt.plot(x, function2(x, *сoefficients_2), label = 'Function 2')\n",
    "plt.legend()\n",
    "plt.grid()"
   ]
  },
  {
   "cell_type": "markdown",
   "metadata": {},
   "source": [
    "Сново ошибка. Попробуем добавить колличество операций"
   ]
  },
  {
   "cell_type": "code",
   "execution_count": 99,
   "metadata": {},
   "outputs": [
    {
     "name": "stdout",
     "output_type": "stream",
     "text": [
      "Коофиценты function2 [b1, b2, b3] =  [6.24484526e-03 6.08987471e+03 3.42051184e+02]\n"
     ]
    },
    {
     "data": {
      "image/png": "[encoded data removed]",
      "text/plain": [
       "<Figure size 432x288 with 1 Axes>"
      ]
     },
     "metadata": {
      "needs_background": "light"
     },
     "output_type": "display_data"
    }
   ],
   "source": [
    "сoefficients_2, _ = curve_fit(function2, x, y, maxfev = 17500)\n",
    "print (\"Коофиценты function2 [b1, b2, b3] = \", сoefficients_2)\n",
    "plt.plot(x, y, '.', label = 'Data')\n",
    "plt.plot(x, function2(x, *сoefficients_2), label = 'Function 2')\n",
    "plt.legend()\n",
    "plt.grid()"
   ]
  },
  {
   "cell_type": "markdown",
   "metadata": {},
   "source": [
    "Как оказалось, здесь в curve_fit можно не вставлять приближенные коофиценты.\n",
    "Находим ошибку."
   ]
  },
  {
   "cell_type": "code",
   "execution_count": 100,
   "metadata": {},
   "outputs": [
    {
     "data": {
      "text/plain": [
       "556536144204.9083"
      ]
     },
     "execution_count": 100,
     "metadata": {},
     "output_type": "execute_result"
    }
   ],
   "source": [
    "(np.sum(function2(x, *сoefficients_2) - sum(y))**2)/16"
   ]
  },
  {
   "cell_type": "markdown",
   "metadata": {},
   "source": [
    "# ВЫВОД\n",
    "Вторая функция точнее первой для приведённых данных, потому что:\n",
    "1. Ошибка первой функции (557025940594.5576) > ошибка второй функции (556536144204.9083)\n",
    "2. Модель второй функции более приближен к исходным данным, чем вторая модель"
   ]
  }
 ],
 "metadata": {
  "kernelspec": {
   "display_name": "Python 3",
   "language": "python",
   "name": "python3"
  },
  "language_info": {
   "codemirror_mode": {
    "name": "ipython",
    "version": 3
   },
   "file_extension": ".py",
   "mimetype": "text/x-python",
   "name": "python",
   "nbconvert_exporter": "python",
   "pygments_lexer": "ipython3",
   "version": "3.7.6"
  }
 },
 "nbformat": 4,
 "nbformat_minor": 4
}
